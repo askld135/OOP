{
 "cells": [
  {
   "cell_type": "code",
   "execution_count": 4,
   "metadata": {},
   "outputs": [],
   "source": [
    "import cv2\n",
    "import urllib.request\n",
    "import numpy as np\n",
    "\n",
    "faceCascade = cv2.CascadeClassifier('C:/Users/w3218/Desktop/Obeject_Oriented_Programming/OOP_subject/Hw_2-1/haarcascades/haarcascade_frontalface_default.xml')"
   ]
  },
  {
   "cell_type": "code",
   "execution_count": 5,
   "metadata": {},
   "outputs": [
    {
     "data": {
      "text/plain": [
       "True"
      ]
     },
     "execution_count": 5,
     "metadata": {},
     "output_type": "execute_result"
    }
   ],
   "source": [
    "capture = cv2.VideoCapture(0) \n",
    "capture.set(cv2.CAP_PROP_FRAME_WIDTH,1280) \n",
    "capture.set(cv2.CAP_PROP_FRAME_HEIGHT,720) "
   ]
  },
  {
   "cell_type": "code",
   "execution_count": 8,
   "metadata": {},
   "outputs": [
    {
     "name": "stdout",
     "output_type": "stream",
     "text": [
      "\n",
      " [INFO] Initializing face capture. Look the camera and wait\n"
     ]
    },
    {
     "ename": "error",
     "evalue": "OpenCV(4.7.0) D:\\a\\opencv-python\\opencv-python\\opencv\\modules\\imgproc\\src\\color.cpp:182: error: (-215:Assertion failed) !_src.empty() in function 'cv::cvtColor'\n",
     "output_type": "error",
     "traceback": [
      "\u001b[1;31m---------------------------------------------------------------------------\u001b[0m",
      "\u001b[1;31merror\u001b[0m                                     Traceback (most recent call last)",
      "\u001b[1;32mc:\\Users\\w3218\\Desktop\\Obeject_Oriented_Programming\\OOP_subject\\Hw_2-1\\naver.ipynb 셀 3\u001b[0m in \u001b[0;36m<cell line: 8>\u001b[1;34m()\u001b[0m\n\u001b[0;32m      <a href='vscode-notebook-cell:/c%3A/Users/w3218/Desktop/Obeject_Oriented_Programming/OOP_subject/Hw_2-1/naver.ipynb#W4sZmlsZQ%3D%3D?line=7'>8</a>\u001b[0m ret, frame \u001b[39m=\u001b[39m capture\u001b[39m.\u001b[39mread() \u001b[39m#카메라 상태 및 프레임\u001b[39;00m\n\u001b[0;32m      <a href='vscode-notebook-cell:/c%3A/Users/w3218/Desktop/Obeject_Oriented_Programming/OOP_subject/Hw_2-1/naver.ipynb#W4sZmlsZQ%3D%3D?line=8'>9</a>\u001b[0m \u001b[39m# cf. frame = cv2.flip(frame, -1) 상하반전\u001b[39;00m\n\u001b[1;32m---> <a href='vscode-notebook-cell:/c%3A/Users/w3218/Desktop/Obeject_Oriented_Programming/OOP_subject/Hw_2-1/naver.ipynb#W4sZmlsZQ%3D%3D?line=9'>10</a>\u001b[0m gray \u001b[39m=\u001b[39m cv2\u001b[39m.\u001b[39;49mcvtColor(frame, cv2\u001b[39m.\u001b[39;49mCOLOR_BGR2GRAY) \u001b[39m#흑백으로\u001b[39;00m\n\u001b[0;32m     <a href='vscode-notebook-cell:/c%3A/Users/w3218/Desktop/Obeject_Oriented_Programming/OOP_subject/Hw_2-1/naver.ipynb#W4sZmlsZQ%3D%3D?line=10'>11</a>\u001b[0m faces \u001b[39m=\u001b[39m faceCascade\u001b[39m.\u001b[39mdetectMultiScale(\n\u001b[0;32m     <a href='vscode-notebook-cell:/c%3A/Users/w3218/Desktop/Obeject_Oriented_Programming/OOP_subject/Hw_2-1/naver.ipynb#W4sZmlsZQ%3D%3D?line=11'>12</a>\u001b[0m     gray,\u001b[39m#검출하고자 하는 원본이미지\u001b[39;00m\n\u001b[0;32m     <a href='vscode-notebook-cell:/c%3A/Users/w3218/Desktop/Obeject_Oriented_Programming/OOP_subject/Hw_2-1/naver.ipynb#W4sZmlsZQ%3D%3D?line=12'>13</a>\u001b[0m     scaleFactor \u001b[39m=\u001b[39m \u001b[39m1.2\u001b[39m, \u001b[39m#검색 윈도우 확대 비율, 1보다 커야 한다\u001b[39;00m\n\u001b[0;32m     <a href='vscode-notebook-cell:/c%3A/Users/w3218/Desktop/Obeject_Oriented_Programming/OOP_subject/Hw_2-1/naver.ipynb#W4sZmlsZQ%3D%3D?line=13'>14</a>\u001b[0m     minNeighbors \u001b[39m=\u001b[39m \u001b[39m6\u001b[39m, \u001b[39m#얼굴 사이 최소 간격(픽셀)\u001b[39;00m\n\u001b[0;32m     <a href='vscode-notebook-cell:/c%3A/Users/w3218/Desktop/Obeject_Oriented_Programming/OOP_subject/Hw_2-1/naver.ipynb#W4sZmlsZQ%3D%3D?line=14'>15</a>\u001b[0m     minSize\u001b[39m=\u001b[39m(\u001b[39m20\u001b[39m,\u001b[39m20\u001b[39m) \u001b[39m#얼굴 최소 크기. 이것보다 작으면 무시\u001b[39;00m\n\u001b[0;32m     <a href='vscode-notebook-cell:/c%3A/Users/w3218/Desktop/Obeject_Oriented_Programming/OOP_subject/Hw_2-1/naver.ipynb#W4sZmlsZQ%3D%3D?line=15'>16</a>\u001b[0m )\n\u001b[0;32m     <a href='vscode-notebook-cell:/c%3A/Users/w3218/Desktop/Obeject_Oriented_Programming/OOP_subject/Hw_2-1/naver.ipynb#W4sZmlsZQ%3D%3D?line=17'>18</a>\u001b[0m \u001b[39m#얼굴에 대해 rectangle 출력\u001b[39;00m\n",
      "\u001b[1;31merror\u001b[0m: OpenCV(4.7.0) D:\\a\\opencv-python\\opencv-python\\opencv\\modules\\imgproc\\src\\color.cpp:182: error: (-215:Assertion failed) !_src.empty() in function 'cv::cvtColor'\n"
     ]
    }
   ],
   "source": [
    "#console message\n",
    "face_id = input('\\n enter user id end press <return> ==> ')\n",
    "print(\"\\n [INFO] Initializing face capture. Look the camera and wait\")\n",
    "\n",
    "count = 0 # # of caputre face images\n",
    "#영상 처리 및 출력\n",
    "while True:                                                               # 조건이 항상 참이므로 무한반복\n",
    "    ret, frame = capture.read() #카메라 상태 및 프레임\n",
    "    # cf. frame = cv2.flip(frame, -1) 상하반전\n",
    "    gray = cv2.cvtColor(frame, cv2.COLOR_BGR2GRAY) #흑백으로\n",
    "    faces = faceCascade.detectMultiScale(\n",
    "        gray,#검출하고자 하는 원본이미지\n",
    "        scaleFactor = 1.2, #검색 윈도우 확대 비율, 1보다 커야 한다\n",
    "        minNeighbors = 6, #얼굴 사이 최소 간격(픽셀)\n",
    "        minSize=(20,20) #얼굴 최소 크기. 이것보다 작으면 무시\n",
    "    )\n",
    "    \n",
    "    #얼굴에 대해 rectangle 출력\n",
    "    for (x,y,w,h) in faces:\n",
    "        cv2.rectangle(frame,(x,y),(x+w,y+h),(255,0,0),2)\n",
    "        #inputOutputArray, point1 , 2, colorBGR, thickness)\n",
    "        count += 1\n",
    "        cv2.imwrite(\"dataset/User.\"+str(face_id)+'.'+str(count)+\".jpg\",gray[y:y+h, x:x+w])\n",
    "        \n",
    "    cv2.imshow('image',frame)\n",
    "\n",
    "\t#종료조건\n",
    "    if cv2.waitKey(1) > 0 : break #키 입력이 있을 때 반복문 종료\n",
    "    elif count >= 100 : break #100 face sample                          #elif == else if\n",
    "\n",
    "print(\"\\n [INFO] Exiting Program and cleanup stuff\")\n",
    "    \n",
    "capture.release() #메모리 해제\n",
    "cv2.destroyAllWindows()#모든 윈도우 창 닫기"
   ]
  }
 ],
 "metadata": {
  "kernelspec": {
   "display_name": "base",
   "language": "python",
   "name": "python3"
  },
  "language_info": {
   "codemirror_mode": {
    "name": "ipython",
    "version": 3
   },
   "file_extension": ".py",
   "mimetype": "text/x-python",
   "name": "python",
   "nbconvert_exporter": "python",
   "pygments_lexer": "ipython3",
   "version": "3.9.13"
  },
  "orig_nbformat": 4
 },
 "nbformat": 4,
 "nbformat_minor": 2
}
