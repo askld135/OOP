{
 "cells": [
  {
   "attachments": {},
   "cell_type": "markdown",
   "metadata": {},
   "source": [
    "객체 지향 프로그래밍 Homework 1\n",
    "===================================\n",
    "Implementing an augmented reality application\n",
    "-------------------------------------"
   ]
  },
  {
   "cell_type": "code",
   "execution_count": 1,
   "metadata": {},
   "outputs": [
    {
     "ename": "error",
     "evalue": "OpenCV(4.7.0) D:\\a\\opencv-python\\opencv-python\\opencv\\modules\\objdetect\\src\\aruco\\aruco_detector.cpp:860: error: (-215:Assertion failed) !_image.empty() in function 'cv::aruco::ArucoDetector::detectMarkers'\n",
     "output_type": "error",
     "traceback": [
      "\u001b[1;31m---------------------------------------------------------------------------\u001b[0m",
      "\u001b[1;31merror\u001b[0m                                     Traceback (most recent call last)",
      "Cell \u001b[1;32mIn [1], line 10\u001b[0m\n\u001b[0;32m      6\u001b[0m detector \u001b[39m=\u001b[39m cv\u001b[39m.\u001b[39maruco\u001b[39m.\u001b[39mArucoDetector(dictionary, parameters)\n\u001b[0;32m      8\u001b[0m frame \u001b[39m=\u001b[39m cv\u001b[39m.\u001b[39mimread(\u001b[39m'\u001b[39m\u001b[39m'\u001b[39m)\n\u001b[1;32m---> 10\u001b[0m markerCorners, markerIds, rejectedCandidates \u001b[39m=\u001b[39m detector\u001b[39m.\u001b[39;49mdetectMarkers(frame)\n\u001b[0;32m     12\u001b[0m \u001b[39m# Load the predefined dictionary\u001b[39;00m\n\u001b[0;32m     13\u001b[0m  \n\u001b[0;32m     14\u001b[0m \u001b[39m# Generate the marker\u001b[39;00m\n\u001b[0;32m     15\u001b[0m markerImage \u001b[39m=\u001b[39m np\u001b[39m.\u001b[39mzeros((\u001b[39m200\u001b[39m, \u001b[39m200\u001b[39m), dtype\u001b[39m=\u001b[39mnp\u001b[39m.\u001b[39muint8)\n",
      "\u001b[1;31merror\u001b[0m: OpenCV(4.7.0) D:\\a\\opencv-python\\opencv-python\\opencv\\modules\\objdetect\\src\\aruco\\aruco_detector.cpp:860: error: (-215:Assertion failed) !_image.empty() in function 'cv::aruco::ArucoDetector::detectMarkers'\n"
     ]
    }
   ],
   "source": [
    "import cv2 as cv\n",
    "import numpy as np\n",
    "\n",
    "dictionary = cv.aruco.getPredefinedDictionary(cv.aruco.DICT_4X4_250)\n",
    "parameters =  cv.aruco.DetectorParameters()\n",
    "detector = cv.aruco.ArucoDetector(dictionary, parameters)\n",
    "\n",
    "frame = cv.imread('')\n",
    "\n",
    "markerCorners, markerIds, rejectedCandidates = detector.detectMarkers(frame)\n",
    " \n",
    "# Load the predefined dictionary\n",
    " \n",
    "# Generate the marker\n",
    "markerImage = np.zeros((200, 200), dtype=np.uint8)\n",
    "markerImage = cv.aruco.drawMarker(dictionary, 33, 200, markerImage, 1)\n",
    " \n",
    "cv.imwrite(\"marker33.png\", markerImage)"
   ]
  },
  {
   "cell_type": "code",
   "execution_count": null,
   "metadata": {},
   "outputs": [],
   "source": [
    "import cv2 as cv\n",
    "# import cv2.aruco as aruco\n",
    "\n",
    "dictionary = cv.aruco.getPredefinedDictionary(cv.aruco.DICT_4X4_250)\n",
    "parameters =  cv.aruco.DetectorParameters()\n",
    "detector = cv.aruco.ArucoDetector(dictionary, parameters)\n",
    "\n",
    "frame = cv.imread(...)\n",
    "\n",
    "markerCorners, markerIds, rejectedCandidates = detector.detectMarkers(frame)\n",
    "\n",
    "#Load the dictionary that was used to generate the markers.\n",
    "dictionary = cv.aruco.Dictionary_get(cv.aruco.DICT_6X6_250)\n",
    " \n",
    "# Initialize the detector parameters using default values\n",
    "parameters =  cv.aruco.DetectorParameters_create()\n",
    " \n",
    "# Detect the markers in the image\n",
    "markerCorners, markerIds, rejectedCandidates = cv.aruco.detectMarkers(frame, dictionary, parameters=parameters)\n"
   ]
  },
  {
   "cell_type": "code",
   "execution_count": null,
   "metadata": {},
   "outputs": [],
   "source": [
    "#Load the dictionary that was used to generate the markers.\n",
    "dictionary = aruco.Dictionary_get(aruco.DICT_6X6_250)\n",
    " \n",
    "# Initialize the detector parameters using default values\n",
    "parameters =  aruco.DetectorParameters_create()\n",
    " \n",
    "# Detect the markers in the image\n",
    "markerCorners, markerIds, rejectedCandidates = aruco.detectMarkers(frame, dictionary, parameters=parameters)\n"
   ]
  },
  {
   "cell_type": "code",
   "execution_count": null,
   "metadata": {},
   "outputs": [],
   "source": []
  }
 ],
 "metadata": {
  "kernelspec": {
   "display_name": "base",
   "language": "python",
   "name": "python3"
  },
  "language_info": {
   "codemirror_mode": {
    "name": "ipython",
    "version": 3
   },
   "file_extension": ".py",
   "mimetype": "text/x-python",
   "name": "python",
   "nbconvert_exporter": "python",
   "pygments_lexer": "ipython3",
   "version": "3.9.13"
  },
  "orig_nbformat": 4,
  "vscode": {
   "interpreter": {
    "hash": "2d7674803c0ee7a6a09b527152ad1c0b97006162560a7408234cdbcb1ab97f94"
   }
  }
 },
 "nbformat": 4,
 "nbformat_minor": 2
}
