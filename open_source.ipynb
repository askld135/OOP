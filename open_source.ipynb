{
 "cells": [
  {
   "cell_type": "code",
   "execution_count": null,
   "metadata": {},
   "outputs": [],
   "source": [
    "import cv2 as cv\n",
    "import numpy as np\n",
    " \n",
    "# Load the predefined dictionary\n",
    "dictionary = cv.aruco.Dictionary_get(cv.aruco.DICT_6X6_250)\n",
    " \n",
    "# Generate the marker\n",
    "markerImage = np.zeros((200, 200), dtype=np.uint8)\n",
    "markerImage = cv.aruco.drawMarker(dictionary, 33, 200, markerImage, 1)\n",
    " \n",
    "cv.imwrite(\"marker33.png\", markerImage)\n"
   ]
  },
  {
   "cell_type": "code",
   "execution_count": null,
   "metadata": {},
   "outputs": [],
   "source": [
    "#Load the dictionary that was used to generate the markers.\n",
    "dictionary = cv.aruco.Dictionary_get(cv.aruco.DICT_6X6_250)\n",
    " \n",
    "# Initialize the detector parameters using default values\n",
    "parameters =  cv.aruco.DetectorParameters_create()\n",
    " \n",
    "# Detect the markers in the image\n",
    "markerCorners, markerIds, rejectedCandidates = cv.aruco.detectMarkers(frame, dictionary, parameters=parameters)"
   ]
  }
 ],
 "metadata": {
  "kernelspec": {
   "display_name": "base",
   "language": "python",
   "name": "python3"
  },
  "language_info": {
   "codemirror_mode": {
    "name": "ipython",
    "version": 3
   },
   "file_extension": ".py",
   "mimetype": "text/x-python",
   "name": "python",
   "nbconvert_exporter": "python",
   "pygments_lexer": "ipython3",
   "version": "3.9.13"
  },
  "orig_nbformat": 4,
  "vscode": {
   "interpreter": {
    "hash": "2d7674803c0ee7a6a09b527152ad1c0b97006162560a7408234cdbcb1ab97f94"
   }
  }
 },
 "nbformat": 4,
 "nbformat_minor": 2
}
